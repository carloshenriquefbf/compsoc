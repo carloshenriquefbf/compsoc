{
 "cells": [
  {
   "cell_type": "code",
   "execution_count": null,
   "metadata": {},
   "outputs": [],
   "source": [
    "import pandas as pd\n",
    "import zipfile"
   ]
  },
  {
   "cell_type": "code",
   "execution_count": null,
   "metadata": {},
   "outputs": [],
   "source": [
    "def zip_ref(filepath):\n",
    "    with zipfile.ZipFile(filepath, 'r') as zip_ref:\n",
    "        file_list = zip_ref.namelist()\n",
    "        filename = file_list[0]\n",
    "        return zip_ref.open(filename)"
   ]
  },
  {
   "cell_type": "code",
   "execution_count": null,
   "metadata": {},
   "outputs": [],
   "source": [
    "filepath_empresas = './files/Empresas/Empresas9.zip'\n",
    "\n",
    "colunas_empresas = ['cnpj_basico', 'razao_social',\n",
    "           'natureza_juridica',\n",
    "           'qualificacao_responsavel',\n",
    "           'capital_social_str',\n",
    "           'porte_empresa',\n",
    "           'ente_federativo_responsavel']\n",
    "\n",
    "df_empresas = pd.read_csv(zip_ref(filepath_empresas), delimiter=';', encoding='ISO-8859-1', names=colunas_empresas)\n",
    "\n",
    "df_empresas.head()"
   ]
  },
  {
   "cell_type": "code",
   "execution_count": null,
   "metadata": {},
   "outputs": [],
   "source": [
    "filepath_estabelecimentos = './files/Estabelecimentos/Estabelecimentos9.zip'\n",
    "\n",
    "colunas_estabelecimentos = ['cnpj_basico','cnpj_ordem', 'cnpj_dv','matriz_filial',\n",
    "              'nome_fantasia',\n",
    "              'situacao_cadastral','data_situacao_cadastral',\n",
    "              'motivo_situacao_cadastral',\n",
    "              'nome_cidade_exterior',\n",
    "              'pais',\n",
    "              'data_inicio_atividades',\n",
    "              'cnae_fiscal',\n",
    "              'cnae_fiscal_secundaria',\n",
    "              'tipo_logradouro',\n",
    "              'logradouro',\n",
    "              'numero',\n",
    "              'complemento','bairro',\n",
    "              'cep','uf','municipio',\n",
    "              'ddd1', 'telefone1',\n",
    "              'ddd2', 'telefone2',\n",
    "              'ddd_fax', 'fax',\n",
    "              'correio_eletronico',\n",
    "              'situacao_especial',\n",
    "              'data_situacao_especial']\n",
    "\n",
    "df_estabelecimentos = pd.read_csv(zip_ref(filepath_estabelecimentos), delimiter=';', encoding='ISO-8859-1', names=colunas_estabelecimentos, dtype=str)\n",
    "\n",
    "df_estabelecimentos.head()"
   ]
  },
  {
   "cell_type": "code",
   "execution_count": null,
   "metadata": {},
   "outputs": [],
   "source": [
    "df = df_estabelecimentos[df_estabelecimentos['municipio'] == '5853']\n",
    "df.head()"
   ]
  },
  {
   "cell_type": "code",
   "execution_count": null,
   "metadata": {},
   "outputs": [],
   "source": [
    "colunas = ['cnpj_basico', 'data_inicio_atividades', 'data_situacao_cadastral', 'data_situacao_especial']\n",
    "print(df_estabelecimentos[colunas].head())\n"
   ]
  }
 ],
 "metadata": {
  "kernelspec": {
   "display_name": ".venv",
   "language": "python",
   "name": "python3"
  },
  "language_info": {
   "codemirror_mode": {
    "name": "ipython",
    "version": 3
   },
   "file_extension": ".py",
   "mimetype": "text/x-python",
   "name": "python",
   "nbconvert_exporter": "python",
   "pygments_lexer": "ipython3",
   "version": "3.12.4"
  }
 },
 "nbformat": 4,
 "nbformat_minor": 2
}
